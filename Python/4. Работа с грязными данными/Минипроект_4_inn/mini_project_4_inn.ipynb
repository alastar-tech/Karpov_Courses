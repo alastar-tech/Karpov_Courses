{
 "cells": [
  {
   "cell_type": "code",
   "execution_count": 1,
   "metadata": {},
   "outputs": [],
   "source": [
    "import pandas as pd\n",
    "import os"
   ]
  },
  {
   "cell_type": "code",
   "execution_count": 2,
   "metadata": {},
   "outputs": [],
   "source": [
    "#прочитать файл эксель и txt\n",
    "df_xlsx = pd.read_excel('/mnt/HC_Volume_18315164/home-jupyter/jupyter-a-bundych/shared/homeworks/python_ds_miniprojects/4_inn/inn.xls')\n",
    "\n",
    "file = open('/mnt/HC_Volume_18315164/home-jupyter/jupyter-a-bundych/shared/homeworks/python_ds_miniprojects/4_inn/necessary_inn.txt') \n",
    "lines = file.readlines()\n",
    "df_inn = pd.DataFrame(lines)\n",
    "df_inn.to_csv('555')\n",
    "\n",
    "df_inn = pd.read_csv('/mnt/HC_Volume_18315164/home-jupyter/jupyter-a-bundych/Lesson_4/555')"
   ]
  },
  {
   "cell_type": "code",
   "execution_count": 3,
   "metadata": {},
   "outputs": [],
   "source": [
    "#привести колонки в порядок\n",
    "\n",
    "df_xlsx = df_xlsx.drop(columns={'Unnamed: 0', '#'})\n",
    "df_inn = df_inn.drop(columns={'Unnamed: 0'}).rename(columns={'0': 'inn'})\n"
   ]
  },
  {
   "cell_type": "code",
   "execution_count": 9,
   "metadata": {},
   "outputs": [],
   "source": [
    "#фильтрация основного дф по нужным значениям из другого дф\n",
    "\n",
    "df_needed = df_xlsx.query('head_inn in @df_inn.inn')"
   ]
  },
  {
   "cell_type": "code",
   "execution_count": 13,
   "metadata": {},
   "outputs": [
    {
     "data": {
      "text/plain": [
       "6104522627393"
      ]
     },
     "execution_count": 13,
     "metadata": {},
     "output_type": "execute_result"
    }
   ],
   "source": [
    "#сумма по колонкке\n",
    "df_needed['income,RUB'].sum() "
   ]
  },
  {
   "cell_type": "code",
   "execution_count": null,
   "metadata": {},
   "outputs": [],
   "source": []
  }
 ],
 "metadata": {
  "kernelspec": {
   "display_name": "Python 3",
   "language": "python",
   "name": "python3"
  },
  "language_info": {
   "codemirror_mode": {
    "name": "ipython",
    "version": 3
   },
   "file_extension": ".py",
   "mimetype": "text/x-python",
   "name": "python",
   "nbconvert_exporter": "python",
   "pygments_lexer": "ipython3",
   "version": "3.7.3"
  }
 },
 "nbformat": 4,
 "nbformat_minor": 4
}
