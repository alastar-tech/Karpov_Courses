{
 "cells": [
  {
   "cell_type": "code",
   "execution_count": null,
   "id": "c8eb23d0",
   "metadata": {},
   "outputs": [],
   "source": [
    "import pandas as pd\n",
    "import seaborn as sns\n",
    "import numpy as np"
   ]
  },
  {
   "cell_type": "code",
   "execution_count": null,
   "id": "db670593",
   "metadata": {},
   "outputs": [],
   "source": [
    "sns.set(\n",
    "    font_scale=2,\n",
    "    style=\"whitegrid\",\n",
    "    rc={'figure.figsize':(20,7)}\n",
    "        )"
   ]
  },
  {
   "cell_type": "code",
   "execution_count": null,
   "id": "20fd15e1",
   "metadata": {},
   "outputs": [],
   "source": [
    "clients = pd.read_csv('/mnt/HC_Volume_18315164/home-jupyter/jupyter-a-bundych/shared/homeworks/python_ds_miniprojects/6/ads_clients_data.csv', parse_dates=['date', 'create_date'])\n",
    "data = pd.read_csv('/mnt/HC_Volume_18315164/home-jupyter/jupyter-a-bundych/shared/homeworks/python_ds_miniprojects/6/ads_data.csv', parse_dates=['date'])"
   ]
  },
  {
   "cell_type": "code",
   "execution_count": null,
   "id": "26aacb1d",
   "metadata": {},
   "outputs": [],
   "source": [
    "data.head()"
   ]
  },
  {
   "cell_type": "code",
   "execution_count": null,
   "id": "eb4742ce",
   "metadata": {},
   "outputs": [],
   "source": [
    "clients.head()"
   ]
  },
  {
   "cell_type": "code",
   "execution_count": null,
   "id": "aaba2ada",
   "metadata": {},
   "outputs": [],
   "source": [
    "#посчитать кол-во событий по каждому объявлению\n",
    "\n",
    "count_by_event = data.groupby(by=['ad_id', 'event']).agg({'date': 'count'}).reset_index()\n",
    "count_by_event.head()"
   ]
  },
  {
   "cell_type": "code",
   "execution_count": null,
   "id": "577d50ef",
   "metadata": {},
   "outputs": [],
   "source": [
    "#сводная таблица по событиям объявлений\n",
    "\n",
    "pivot_by_event = pd.pivot_table(count_by_event, index='ad_id' , columns='event', values='date')\n",
    "pivot_by_event = pivot_by_event.fillna(0) #заполнить пустые значения, чтобы рассчет среднего был корректным\n",
    "\n",
    "pivot_by_event.head()"
   ]
  },
  {
   "cell_type": "code",
   "execution_count": null,
   "id": "e51b5ba4",
   "metadata": {},
   "outputs": [],
   "source": [
    "#среднее число событий на одно объявление\n",
    "\n",
    "view_mean = round(pivot_by_event.view.mean())\n",
    "click_mean = round(pivot_by_event.click.mean())\n",
    "\n",
    "print(\"view_mean: \", view_mean)\n",
    "print(\"click_mean: \", click_mean)"
   ]
  },
  {
   "cell_type": "code",
   "execution_count": null,
   "id": "dbfe7f35",
   "metadata": {},
   "outputs": [],
   "source": [
    "#распределение показов\n",
    "\n",
    "pivot_by_event_no_0 = pivot_by_event.query('view != 0') #убираем нули из распределения чтобы не было бесконечности при \n",
    "                                                        #вычислении логарифма от 0\n",
    "sns.distplot(np.log(pivot_by_event_no_0['view'])) #логарифм для адекватной картинки распределения"
   ]
  },
  {
   "cell_type": "code",
   "execution_count": null,
   "id": "1d0d1fe3",
   "metadata": {},
   "outputs": [],
   "source": [
    "##среднее кол-во показов объявлений по дням\n",
    "\n",
    "#кол-во показов в день по объявлениям\n",
    "views_by_day = data.query('event == \"view\"') \\\n",
    "                .groupby(['date', 'ad_id']) \\\n",
    "                .agg({'time': 'count'})\n",
    "views_by_day.head()"
   ]
  },
  {
   "cell_type": "code",
   "execution_count": null,
   "id": "3c2bdbe2",
   "metadata": {},
   "outputs": [],
   "source": [
    "#средее кол-во показов в день\n",
    "\n",
    "views_by_day_mean = views_by_day.groupby('date').agg({'time': 'mean'}).reset_index()\n",
    "views_by_day_mean"
   ]
  },
  {
   "cell_type": "code",
   "execution_count": null,
   "id": "8fa0619f",
   "metadata": {},
   "outputs": [],
   "source": [
    "#скользящее среднее по дням (окно=2)\n",
    "\n",
    "views_by_day_mean['ma'] = views_by_day_mean['time'].rolling(2).mean()\n",
    "views_by_day_mean = views_by_day_mean.rename(columns={'time': 'mean'})\n",
    "views_by_day_mean"
   ]
  },
  {
   "cell_type": "code",
   "execution_count": null,
   "id": "f7847fff",
   "metadata": {},
   "outputs": [],
   "source": [
    "# показать на одном графике значения среднего и скользящего среднего кол-ва показов\n",
    "sns.lineplot(data=views_by_day_mean[['mean','ma']])\n",
    "\n",
    "#наибольшая разница по модулю м\\у средним и скольз.средним\n",
    "views_by_day_mean['diff'] = abs(views_by_day_mean['mean'] - views_by_day_mean['ma'])\n",
    "views_by_day_mean"
   ]
  },
  {
   "cell_type": "code",
   "execution_count": null,
   "id": "c6619871",
   "metadata": {},
   "outputs": [],
   "source": [
    "#объединить 2 ДФ\n",
    "\n",
    "full_data = data.merge(clients, on='client_union_id')"
   ]
  },
  {
   "cell_type": "code",
   "execution_count": null,
   "id": "7283f9e2",
   "metadata": {},
   "outputs": [],
   "source": [
    "#создаем колонку с разницей дата события от даты создания\n",
    "full_data['create_diff'] = (full_data['create_date'] - full_data['date_x']) * (-1) #перевод к положит числу\n",
    "\n",
    "#берем минимальное значение разницы(т.е. разницу на момент наступления перового события) по каждому клиенту\n",
    "client_min_dif = full_data.groupby('client_union_id').agg({'create_diff': 'min'}).reset_index()\n",
    "print(client_min_dif.head())\n",
    "\n",
    "#среднее значение разницы от регистрации до запуска рекламы.\n",
    "client_min_dif['create_diff'].mean()"
   ]
  },
  {
   "cell_type": "code",
   "execution_count": null,
   "id": "449b3445",
   "metadata": {},
   "outputs": [],
   "source": [
    "#конверсия из создания кабинета в запуск рекламы в течение 365 дней.\n",
    "\n",
    "clients_365 = client_min_dif.query('create_diff <= @pd.Timedelta(365, unit=\"day\")')\n",
    "clients_365_count = clients_365.create_diff.count()\n",
    "clients_total = clients.client_union_id.nunique()\n",
    "\n",
    "print('кол-во клиентов, запустивших рекламу:', clients_365_count)\n",
    "print('кол-во клиентов всего:', clients_total)\n",
    "print('конверсия кабинет=реклама:', round(clients_365_count / clients_total * 100, 2))\n"
   ]
  },
  {
   "cell_type": "code",
   "execution_count": null,
   "id": "d665188a",
   "metadata": {},
   "outputs": [],
   "source": [
    "#кол-во клиентов, которые запустили рекламу в течение 30,90,180,365 дней\n",
    "\n",
    "client_min_dif['group'] = pd.cut(client_min_dif.create_diff, pd.to_timedelta(['0d', '30d', '90d', '180d', '365d']))\n",
    "users_count_intervals = client_min_dif.groupby('group', as_index=False).agg({'client_union_id': 'count'})\n",
    "users_count_intervals['days'] = ['30 days', '90 days','180 days', '365 days']\n",
    "\n",
    "users_count_intervals"
   ]
  },
  {
   "cell_type": "code",
   "execution_count": null,
   "id": "e4b04d94",
   "metadata": {},
   "outputs": [],
   "source": [
    "import plotly.express as px\n",
    "\n",
    "fig = px.bar(users_count_intervals, x='days', y='client_union_id')\n",
    "fig.show()"
   ]
  }
 ],
 "metadata": {
  "kernelspec": {
   "display_name": "Python 3 (ipykernel)",
   "language": "python",
   "name": "python3"
  },
  "language_info": {
   "codemirror_mode": {
    "name": "ipython",
    "version": 3
   },
   "file_extension": ".py",
   "mimetype": "text/x-python",
   "name": "python",
   "nbconvert_exporter": "python",
   "pygments_lexer": "ipython3",
   "version": "3.9.7"
  }
 },
 "nbformat": 4,
 "nbformat_minor": 5
}
