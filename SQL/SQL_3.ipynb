{
 "cells": [
  {
   "cell_type": "code",
   "execution_count": null,
   "metadata": {},
   "outputs": [],
   "source": [
    "#вывести суммы выручки по испточнику трафика (объединить 3 таблицы)\n",
    "\n",
    "SELECT Count( Distinct UserID), \n",
    "    d.Source, \n",
    "    SUM(Rub)\n",
    "FROM installs as d\n",
    "JOIN (\n",
    "\n",
    "    SELECT a.UserID as UserID,\n",
    "            b.DeviceID as DeviceID,\n",
    "            a.Rub as Rub\n",
    "    FROM checks a\n",
    "    LEFT JOIN devices b on\n",
    "        a.UserID= b.UserID\n",
    "\n",
    "    ) as c\n",
    "    ON d.DeviceID = c.DeviceID\n",
    "\n",
    "GROUP BY d.Source"
   ]
  },
  {
   "cell_type": "code",
   "execution_count": null,
   "metadata": {},
   "outputs": [],
   "source": [
    "#Вывести идентификаторы устройств, пользователи которых совершили покупку хотя бы один раз. В ответ записать минимальный id\n",
    "\n",
    "SELECT \n",
    "    r.DeviceID as DeviceID\n",
    "FROM checks as l\n",
    "join devices as r    \n",
    "    on l.UserID = r.UserID\n",
    "where toDate32(l.BuyDate) BETWEEN '2019-10-01' and '2019-10-31'\n",
    "ORDER BY DeviceID\n",
    "limit 5"
   ]
  },
  {
   "cell_type": "code",
   "execution_count": null,
   "metadata": {},
   "outputs": [],
   "source": [
    "#Определить платформу и источник, пользователи которого в среднем просматривали товары бóльшее число раз.\n",
    "\n",
    "SELECT Platform, \n",
    "        Source,\n",
    "        AVG(events) as events_avg\n",
    "FROM events as l\n",
    "join installs as r\n",
    "on l.DeviceID = r.DeviceID\n",
    "group by Platform, Source\n",
    "order by events_avg desc\n",
    "limit 10"
   ]
  },
  {
   "cell_type": "code",
   "execution_count": null,
   "metadata": {},
   "outputs": [],
   "source": [
    "#число инсталлов, для которых нашлись просмотры, на платформе android.\n",
    "\n",
    "SELECT Platform,\n",
    "        count(DISTINCT DeviceID)\n",
    "from installs as l\n",
    "right join as r using(DeviceID)\n",
    "group by Platform\n",
    "    "
   ]
  },
  {
   "cell_type": "code",
   "execution_count": null,
   "metadata": {},
   "outputs": [],
   "source": [
    "#посчитаем конверсию из инсталла в просмотр с разбивкой по платформе инсталла – \n",
    "#в данном случае это доля DeviceID, для которых есть просмотры, от всех DeviceID в инсталлах. \n",
    "\n",
    "SELECT count(DISTINCT r.DeviceID) / count(DISTINCT l.DeviceID), \n",
    "        l.Platform\n",
    "from installs as l\n",
    "left join events as r using(DeviceID)\n",
    "group by l.Platform"
   ]
  },
  {
   "cell_type": "code",
   "execution_count": null,
   "metadata": {},
   "outputs": [],
   "source": [
    "# 10 уникальных DeviceID, которые присутствуют в таблице events, но отсутствуют в installs\n",
    "SELECT DISTINCT(r.DeviceID)\n",
    "      \n",
    "from installs as l\n",
    "right ANTI join events as r using(DeviceID)\n",
    "order by r.DeviceID desc\n",
    "limit 10"
   ]
  }
 ],
 "metadata": {
  "kernelspec": {
   "display_name": "Python 3",
   "language": "python",
   "name": "python3"
  },
  "language_info": {
   "codemirror_mode": {
    "name": "ipython",
    "version": 3
   },
   "file_extension": ".py",
   "mimetype": "text/x-python",
   "name": "python",
   "nbconvert_exporter": "python",
   "pygments_lexer": "ipython3",
   "version": "3.7.3"
  }
 },
 "nbformat": 4,
 "nbformat_minor": 4
}
