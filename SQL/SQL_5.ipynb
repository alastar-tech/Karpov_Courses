{
 "cells": [
  {
   "cell_type": "code",
   "execution_count": null,
   "metadata": {},
   "outputs": [],
   "source": [
    "# объявления, в которых оценка на основе отзывов выше среднего, а число отзывов в месяц составляет строго меньше трёх\n",
    "# отсортировать по убыванию столбец с отзывами, затем с оценками\n",
    "\n",
    "select id,\n",
    "        reviews_per_month,\n",
    "        review_scores_rating\n",
    "        \n",
    "from listings\n",
    "where toFloat32OrNull(review_scores_rating) > (select avg(toFloat32OrNull(review_scores_rating)) as rating_avg \n",
    "                                                from listings )\n",
    "    and reviews_per_month < 3\n",
    "                                   \n",
    "order by reviews_per_month desc , toFloat64OrNull(review_scores_rating) desc                                    \n",
    "limit 100\n"
   ]
  },
  {
   "cell_type": "code",
   "execution_count": null,
   "metadata": {},
   "outputs": [],
   "source": []
  },
  {
   "cell_type": "code",
   "execution_count": null,
   "metadata": {},
   "outputs": [],
   "source": [
    "#и id хоста и идентификаторы объявлений о сдаче отдельных комнат , для которых расстояние до центра оказалось меньше среднего\n",
    "#52.5200 с.ш., 13.4050 в.д – координаты центра Берлина\n",
    "\n",
    "select id,\n",
    "    host_id,\n",
    "    geoDistance(13.4050, 52.5200, toFloat32(longitude) , toFloat32(latitude)) as distance_avg\n",
    "from listings \n",
    "where distance_avg <  #отбираем объекты с расстоянием меньше среднего\n",
    "                    (\n",
    "                    select avg(geoDistance(13.4050, 52.5200, toFloat32(longitude) , toFloat32(latitude))) as distance_avg\n",
    "                        from listings\n",
    "                        where room_type = 'Private room'\n",
    "                    ) and\n",
    "        room_type = 'Private room'\n",
    "order by distance_avg desc\n",
    "limit 6"
   ]
  },
  {
   "cell_type": "code",
   "execution_count": null,
   "metadata": {},
   "outputs": [],
   "source": []
  },
  {
   "cell_type": "code",
   "execution_count": null,
   "metadata": {},
   "outputs": [],
   "source": [
    "# объявления с жильем:\n",
    "# 1) на расстоянии от центра меньше среднего\n",
    "# 2) обойдутся дешевле 100$ в день (price + cleaning_fee(указана за неделю))\n",
    "# 3) последние отзывы (last_review), начиная с 1 сентября 2018 года\n",
    "# 4) имеют WiFi в списке удобств (amenities)\n",
    "\n",
    "select id,\n",
    "    host_id,\n",
    "    geoDistance(13.4050, 52.5200, toFloat32(longitude) , toFloat32(latitude)) as distance_avg,\n",
    "    toFloat32OrNull(review_scores_rating) as review_scores_rating\n",
    "from listings \n",
    "where distance_avg < (select avg(geoDistance(13.4050, 52.5200, toFloat32(longitude) , toFloat32(latitude))) as distance_avg\n",
    "                       from listings) --имеем число  \n",
    "        and (toFloat32OrNull(replaceAll(price, '$', '')) + toFloat32OrNull(replaceAll(cleaning_fee, '$', ''))/7) < 100\n",
    "        and toStartOfMonth(toDateOrNull(last_review)) > '2018-09-01'\n",
    "        and amenities like '%Wifi%'\n",
    "order by review_scores_rating desc\n",
    "limit 6\n",
    "    "
   ]
  },
  {
   "cell_type": "code",
   "execution_count": null,
   "metadata": {},
   "outputs": [],
   "source": []
  },
  {
   "cell_type": "code",
   "execution_count": null,
   "metadata": {},
   "outputs": [],
   "source": [
    "# найти в таблице calendar_summary те доступные (available='t') объявления,\n",
    "# у которых число отзывов от уникальных пользователей в таблице reviews выше среднего.\n",
    "\n",
    "with reviewer_count_avg_table as  #CTE со средним числом пользователей, которые оставили отзыв по одному объекту \n",
    "(   select avg(reviewer_count) as reviewer_count_avg\n",
    "    from(\n",
    "        select uniqExact(reviewer_id) as reviewer_count\n",
    "        from reviews \n",
    "        group by listing_id\n",
    "        order by reviewer_count desc\n",
    "        ) \n",
    ")    \n",
    "\n",
    "\n",
    "select listing_id, uniqExact(reviewer_id) as reviewer_id_count\n",
    "from (\n",
    "    select DISTINCT(listing_id)\n",
    "    from calendar_summary    #условие на выборку уникальных значений из списка доступности объектов\n",
    "    where available='t'\n",
    "    GROUP BY listing_id\n",
    "    ) as l\n",
    "    \n",
    "join reviews as r \n",
    "    on l.listing_id = r.listing_id\n",
    "    \n",
    "group by l.listing_id\n",
    "having reviewer_id_count > (select reviewer_count_avg from reviewer_count_avg_table) #число оставивших отызв > среднего числа\n",
    "order by l.listing_id\n",
    "limit 10\n"
   ]
  },
  {
   "cell_type": "code",
   "execution_count": null,
   "metadata": {},
   "outputs": [],
   "source": []
  },
  {
   "cell_type": "code",
   "execution_count": null,
   "metadata": {},
   "outputs": [],
   "source": [
    "# разделить всех покупателей на сегменты по стимости среднего чека.\n",
    "\n",
    "select UserID, \n",
    "        avg(Rub) as rub_avg,\n",
    "case when rub_avg < 5 then 'A'\n",
    "    when rub_avg >= 5 and rub_avg < 10 then 'B'\n",
    "    when rub_avg >= 10 and rub_avg < 20 then 'C'\n",
    "    when rub_avg >= 20 then 'D'\n",
    "    end as my_type\n",
    "from checks\n",
    "group by UserID\n",
    "order by UserID\n",
    "limit 10"
   ]
  },
  {
   "cell_type": "code",
   "execution_count": null,
   "metadata": {},
   "outputs": [],
   "source": []
  },
  {
   "cell_type": "code",
   "execution_count": null,
   "metadata": {},
   "outputs": [],
   "source": [
    "#вывести доход, который приносит каждый из сегментов и сколько пользователей содержит в себе\n",
    "\n",
    "select my_type,\n",
    "    count(UserID) as users_count,   #вычисляем кол-во покупателей по сегментам\n",
    "    sum(rub_sum) as rub_total       #вычисляем сумму дохода от покупателей по сегментам\n",
    "from(  #разделяем покупателей на сегменты по среднему чеку\n",
    "        select UserID, \n",
    "                avg(Rub) as rub_avg,\n",
    "                r.rub_sum,\n",
    "        case when rub_avg < 5 then 'A'\n",
    "            when rub_avg >= 5 and rub_avg < 10 then 'B'\n",
    "            when rub_avg >= 10 and rub_avg < 20 then 'C'\n",
    "            when rub_avg >= 20 then 'D'\n",
    "            end as my_type\n",
    "        from checks as l\n",
    "        \n",
    "        join ( #добавляем столбец с доходом по каждому пользователю\n",
    "                select UserID, \n",
    "                        sum(Rub) as rub_sum\n",
    "                from checks\n",
    "                group by UserID\n",
    "                ) as r\n",
    "        ON l.UserID = r.UserID\n",
    "        \n",
    "        \n",
    "        group by UserID,rub_sum\n",
    "        order by UserID\n",
    "    )\n",
    "GROUP BY my_type\n",
    "order by rub_total desc\n"
   ]
  },
  {
   "cell_type": "code",
   "execution_count": null,
   "metadata": {},
   "outputs": [],
   "source": []
  },
  {
   "cell_type": "code",
   "execution_count": null,
   "metadata": {},
   "outputs": [],
   "source": [
    "#создать колонку с оценкой услови о наличии кухни и \"гибкой\" системы отмены\n",
    "#отсортировать новую колонку по возростанию\n",
    "#выписать host_id из первый строки\n",
    "\n",
    "select id,\n",
    "        host_id,\n",
    "case when multiSearchAnyCaseInsensitive(amenities, ['kitchen']) and cancellation_policy =='flexible' then 'good'\n",
    "    when multiSearchAnyCaseInsensitive(amenities, ['kitchen']) and cancellation_policy !='flexible' then 'ok'\n",
    "    else 'not ok'\n",
    "    end as my_status\n",
    "from listings \n",
    "order by my_status\n",
    "limit 5"
   ]
  },
  {
   "cell_type": "code",
   "execution_count": null,
   "metadata": {},
   "outputs": [],
   "source": []
  },
  {
   "cell_type": "code",
   "execution_count": null,
   "metadata": {},
   "outputs": [],
   "source": [
    "#создать таблицу\n",
    "\n",
    "CREATE TABLE test.reviews ENGINE = MergeTree ORDER BY (listing_id, id) (\n",
    "    listing_id UInt32,\n",
    "    id  UInt32,\n",
    "    created_at DateTime('Europe/Moscow'),\n",
    "    reviewer_id UInt32,\n",
    "    reviewer_name string,\n",
    "    comments string\n",
    ")"
   ]
  },
  {
   "cell_type": "code",
   "execution_count": null,
   "metadata": {},
   "outputs": [],
   "source": [
    "#изменить тип в столбце на дату\n",
    "\n",
    "ALTER TABLE test.reviews MODIFY COLUMN created_at Date"
   ]
  },
  {
   "cell_type": "code",
   "execution_count": null,
   "metadata": {},
   "outputs": [],
   "source": [
    "#удалить строки с пустыми значениями в столбце\n",
    "ALTER TABLE test.reviews DELETE WHERE comments=''"
   ]
  },
  {
   "cell_type": "code",
   "execution_count": null,
   "metadata": {},
   "outputs": [],
   "source": [
    "#добавить колонку после колонки \"comments\"\n",
    "\n",
    "ALTER TABLE test.reviews ADD COLUMN price Float32 AFTER comments"
   ]
  },
  {
   "cell_type": "code",
   "execution_count": null,
   "metadata": {},
   "outputs": [],
   "source": []
  }
 ],
 "metadata": {
  "kernelspec": {
   "display_name": "Python 3",
   "language": "python",
   "name": "python3"
  },
  "language_info": {
   "codemirror_mode": {
    "name": "ipython",
    "version": 3
   },
   "file_extension": ".py",
   "mimetype": "text/x-python",
   "name": "python",
   "nbconvert_exporter": "python",
   "pygments_lexer": "ipython3",
   "version": "3.7.3"
  }
 },
 "nbformat": 4,
 "nbformat_minor": 4
}
