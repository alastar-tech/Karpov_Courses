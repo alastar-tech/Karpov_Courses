{
 "cells": [
  {
   "cell_type": "code",
   "execution_count": 1,
   "metadata": {},
   "outputs": [],
   "source": [
    "import pandas as pd\n",
    "import pandahouse as ph\n",
    "import seaborn as sns\n",
    "import matplotlib.pyplot as plt\n",
    "import re\n",
    "import numpy as np"
   ]
  },
  {
   "cell_type": "code",
   "execution_count": null,
   "metadata": {},
   "outputs": [],
   "source": []
  },
  {
   "cell_type": "code",
   "execution_count": 2,
   "metadata": {},
   "outputs": [],
   "source": [
    "connection_default = {'host': 'http://clickhouse.beslan.pro:8080',\n",
    "                      'database':'default',\n",
    "                      'user':'student', \n",
    "                      'password':'dpo_python_2020'\n",
    "                     }"
   ]
  },
  {
   "cell_type": "code",
   "execution_count": 3,
   "metadata": {},
   "outputs": [
    {
     "data": {
      "text/plain": [
       "70.0"
      ]
     },
     "execution_count": 3,
     "metadata": {},
     "output_type": "execute_result"
    }
   ],
   "source": [
    "#запрос на 1000 строк, с полями \"цена\" и \"тип комнаты\" с возрастание по \"id\"\n",
    "#посчитать 75перцентиль цены для типа \"Private room\"\n",
    "\n",
    "q = '''\n",
    "SELECT id,\n",
    "        toFloat32OrNull(replaceRegexpAll(price, '[$,]',  '')) as price,\n",
    "        room_type \n",
    "    \n",
    "FROM ldn_listings\n",
    "ORDER BY id\n",
    "LIMIT 1000\n",
    "\n",
    "'''\n",
    "df = ph.read_clickhouse(query=q, connection=connection_default)\n",
    "df = df.query(\"room_type == 'Private room'\")\n",
    "df.price.quantile(0.75)"
   ]
  },
  {
   "cell_type": "code",
   "execution_count": 4,
   "metadata": {},
   "outputs": [
    {
     "name": "stdout",
     "output_type": "stream",
     "text": [
      "         room_type  price_mean  rating_mean\n",
      "0  Entire home/apt  135.882950    93.568787\n",
      "1       Hotel room  134.000000    92.500000\n",
      "2     Private room   54.642437    94.766205\n",
      "3      Shared room   21.000000    90.000000\n"
     ]
    },
    {
     "data": {
      "text/plain": [
       "<matplotlib.axes._subplots.AxesSubplot at 0x7f04fa279ba8>"
      ]
     },
     "execution_count": 4,
     "metadata": {},
     "output_type": "execute_result"
    },
    {
     "data": {
      "image/png": "[encoded data removed]",
      "text/plain": [
       "<Figure size 432x288 with 1 Axes>"
      ]
     },
     "metadata": {
      "needs_background": "light"
     },
     "output_type": "display_data"
    }
   ],
   "source": [
    "#в предыдущий запрос добавить поле с рейтингом (преобразовать в float)\n",
    "# найти среднее цены и рейтинга в разбивке по room_type\n",
    "q_2 = '''\n",
    "SELECT room_type,\n",
    "        toFloat32OrNull(replaceRegexpAll(price, '[$,]',  '')) as price,        \n",
    "        toFloat32OrNull(review_scores_rating) as scores_rating\n",
    "    \n",
    "FROM ldn_listings\n",
    "WHERE review_scores_rating != ''\n",
    "ORDER BY id\n",
    "LIMIT 1000\n",
    "\n",
    "\n",
    "'''\n",
    "df_2 = ph.read_clickhouse(query=q_2, connection=connection_default)\n",
    "ddf_2 = df_2.groupby('room_type', as_index=False).agg({'price': 'mean'}).rename(columns={'price': 'price_mean'})\n",
    "ddf_2['rating_mean'] = df_2.groupby('room_type', as_index=False).agg({'scores_rating': 'mean'}).scores_rating\n",
    "print(ddf_2)\n",
    "sns.scatterplot(data=ddf_2, x='price_mean', y='rating_mean', hue='room_type')"
   ]
  },
  {
   "cell_type": "code",
   "execution_count": 5,
   "metadata": {},
   "outputs": [
    {
     "data": {
      "text/html": [
       "<div>\n",
       "<style scoped>\n",
       "    .dataframe tbody tr th:only-of-type {\n",
       "        vertical-align: middle;\n",
       "    }\n",
       "\n",
       "    .dataframe tbody tr th {\n",
       "        vertical-align: top;\n",
       "    }\n",
       "\n",
       "    .dataframe thead th {\n",
       "        text-align: right;\n",
       "    }\n",
       "</style>\n",
       "<table border=\"1\" class=\"dataframe\">\n",
       "  <thead>\n",
       "    <tr style=\"text-align: right;\">\n",
       "      <th></th>\n",
       "      <th>host_id</th>\n",
       "      <th>host_verifications</th>\n",
       "    </tr>\n",
       "  </thead>\n",
       "  <tbody>\n",
       "    <tr>\n",
       "      <th>0</th>\n",
       "      <td>6875353</td>\n",
       "      <td>['email', 'phone', 'reviews', 'jumio', 'govern...</td>\n",
       "    </tr>\n",
       "    <tr>\n",
       "      <th>1</th>\n",
       "      <td>1146971</td>\n",
       "      <td>['email', 'phone', 'manual_online', 'facebook'...</td>\n",
       "    </tr>\n",
       "    <tr>\n",
       "      <th>2</th>\n",
       "      <td>10853976</td>\n",
       "      <td>['email', 'phone', 'reviews', 'jumio', 'offlin...</td>\n",
       "    </tr>\n",
       "    <tr>\n",
       "      <th>3</th>\n",
       "      <td>2182162</td>\n",
       "      <td>['email', 'phone', 'reviews', 'jumio', 'govern...</td>\n",
       "    </tr>\n",
       "    <tr>\n",
       "      <th>4</th>\n",
       "      <td>19902892</td>\n",
       "      <td>['email', 'phone', 'reviews', 'jumio']</td>\n",
       "    </tr>\n",
       "  </tbody>\n",
       "</table>\n",
       "</div>"
      ],
      "text/plain": [
       "    host_id                                 host_verifications\n",
       "0   6875353  ['email', 'phone', 'reviews', 'jumio', 'govern...\n",
       "1   1146971  ['email', 'phone', 'manual_online', 'facebook'...\n",
       "2  10853976  ['email', 'phone', 'reviews', 'jumio', 'offlin...\n",
       "3   2182162  ['email', 'phone', 'reviews', 'jumio', 'govern...\n",
       "4  19902892             ['email', 'phone', 'reviews', 'jumio']"
      ]
     },
     "execution_count": 5,
     "metadata": {},
     "output_type": "execute_result"
    }
   ],
   "source": [
    "#запрос с уникальном host_id и host_verifications , experiences_offered не равном  'none'.\n",
    "\n",
    "\n",
    "q_3 = '''\n",
    "SELECT DISTINCT(host_id) as host_id,\n",
    "        host_verifications \n",
    "    \n",
    "FROM ldn_listings\n",
    "WHERE experiences_offered != 'none'\n",
    "GROUP BY host_id, host_verifications\n",
    "\n",
    "\n",
    "'''\n",
    "df_3 = ph.read_clickhouse(query=q_3, connection=connection_default)\n",
    "df_3.head()"
   ]
  },
  {
   "cell_type": "code",
   "execution_count": 6,
   "metadata": {
    "scrolled": true
   },
   "outputs": [
    {
     "data": {
      "text/html": [
       "<div>\n",
       "<style scoped>\n",
       "    .dataframe tbody tr th:only-of-type {\n",
       "        vertical-align: middle;\n",
       "    }\n",
       "\n",
       "    .dataframe tbody tr th {\n",
       "        vertical-align: top;\n",
       "    }\n",
       "\n",
       "    .dataframe thead th {\n",
       "        text-align: right;\n",
       "    }\n",
       "</style>\n",
       "<table border=\"1\" class=\"dataframe\">\n",
       "  <thead>\n",
       "    <tr style=\"text-align: right;\">\n",
       "      <th></th>\n",
       "      <th>host_id</th>\n",
       "      <th>host_verifications</th>\n",
       "    </tr>\n",
       "  </thead>\n",
       "  <tbody>\n",
       "    <tr>\n",
       "      <th>0</th>\n",
       "      <td>6875353</td>\n",
       "      <td>['email',  'phone',  'reviews',  'jumio',  'go...</td>\n",
       "    </tr>\n",
       "    <tr>\n",
       "      <th>1</th>\n",
       "      <td>1146971</td>\n",
       "      <td>['email',  'phone',  'manual_online',  'facebo...</td>\n",
       "    </tr>\n",
       "    <tr>\n",
       "      <th>2</th>\n",
       "      <td>10853976</td>\n",
       "      <td>['email',  'phone',  'reviews',  'jumio',  'of...</td>\n",
       "    </tr>\n",
       "    <tr>\n",
       "      <th>3</th>\n",
       "      <td>2182162</td>\n",
       "      <td>['email',  'phone',  'reviews',  'jumio',  'go...</td>\n",
       "    </tr>\n",
       "    <tr>\n",
       "      <th>4</th>\n",
       "      <td>19902892</td>\n",
       "      <td>['email',  'phone',  'reviews',  'jumio']</td>\n",
       "    </tr>\n",
       "  </tbody>\n",
       "</table>\n",
       "</div>"
      ],
      "text/plain": [
       "    host_id                                 host_verifications\n",
       "0   6875353  ['email',  'phone',  'reviews',  'jumio',  'go...\n",
       "1   1146971  ['email',  'phone',  'manual_online',  'facebo...\n",
       "2  10853976  ['email',  'phone',  'reviews',  'jumio',  'of...\n",
       "3   2182162  ['email',  'phone',  'reviews',  'jumio',  'go...\n",
       "4  19902892          ['email',  'phone',  'reviews',  'jumio']"
      ]
     },
     "execution_count": 6,
     "metadata": {},
     "output_type": "execute_result"
    }
   ],
   "source": [
    "#раскрыть значения столбца host_verifications\n",
    "\n",
    "chars = ['[', ']'] #символы для удаления из строк\n",
    "\n",
    "#применяю lambda-функцию с удалением символов с сплитованием элементов по запятым\n",
    "df_3['host_verifications'] = df_3.host_verifications \\\n",
    "                                 .apply(lambda x: x.translate(str.maketrans('', '', ''.join(chars))) \\\n",
    "                                 .split(','))\n",
    "df_3.head()"
   ]
  },
  {
   "cell_type": "code",
   "execution_count": 7,
   "metadata": {},
   "outputs": [
    {
     "data": {
      "text/html": [
       "<div>\n",
       "<style scoped>\n",
       "    .dataframe tbody tr th:only-of-type {\n",
       "        vertical-align: middle;\n",
       "    }\n",
       "\n",
       "    .dataframe tbody tr th {\n",
       "        vertical-align: top;\n",
       "    }\n",
       "\n",
       "    .dataframe thead th {\n",
       "        text-align: right;\n",
       "    }\n",
       "</style>\n",
       "<table border=\"1\" class=\"dataframe\">\n",
       "  <thead>\n",
       "    <tr style=\"text-align: right;\">\n",
       "      <th></th>\n",
       "      <th>index</th>\n",
       "      <th>count</th>\n",
       "    </tr>\n",
       "  </thead>\n",
       "  <tbody>\n",
       "    <tr>\n",
       "      <th>0</th>\n",
       "      <td>'phone'</td>\n",
       "      <td>1345</td>\n",
       "    </tr>\n",
       "    <tr>\n",
       "      <th>1</th>\n",
       "      <td>'email'</td>\n",
       "      <td>1345</td>\n",
       "    </tr>\n",
       "    <tr>\n",
       "      <th>2</th>\n",
       "      <td>'reviews'</td>\n",
       "      <td>1309</td>\n",
       "    </tr>\n",
       "    <tr>\n",
       "      <th>3</th>\n",
       "      <td>'government_id'</td>\n",
       "      <td>1196</td>\n",
       "    </tr>\n",
       "    <tr>\n",
       "      <th>4</th>\n",
       "      <td>'jumio'</td>\n",
       "      <td>1115</td>\n",
       "    </tr>\n",
       "    <tr>\n",
       "      <th>5</th>\n",
       "      <td>'offline_government_id'</td>\n",
       "      <td>469</td>\n",
       "    </tr>\n",
       "    <tr>\n",
       "      <th>6</th>\n",
       "      <td>'work_email'</td>\n",
       "      <td>279</td>\n",
       "    </tr>\n",
       "    <tr>\n",
       "      <th>7</th>\n",
       "      <td>'facebook'</td>\n",
       "      <td>270</td>\n",
       "    </tr>\n",
       "    <tr>\n",
       "      <th>8</th>\n",
       "      <td>'selfie'</td>\n",
       "      <td>252</td>\n",
       "    </tr>\n",
       "    <tr>\n",
       "      <th>9</th>\n",
       "      <td>'identity_manual'</td>\n",
       "      <td>227</td>\n",
       "    </tr>\n",
       "    <tr>\n",
       "      <th>10</th>\n",
       "      <td>'manual_offline'</td>\n",
       "      <td>70</td>\n",
       "    </tr>\n",
       "    <tr>\n",
       "      <th>11</th>\n",
       "      <td>'google'</td>\n",
       "      <td>34</td>\n",
       "    </tr>\n",
       "    <tr>\n",
       "      <th>12</th>\n",
       "      <td>'kba'</td>\n",
       "      <td>27</td>\n",
       "    </tr>\n",
       "    <tr>\n",
       "      <th>13</th>\n",
       "      <td>'manual_online'</td>\n",
       "      <td>16</td>\n",
       "    </tr>\n",
       "    <tr>\n",
       "      <th>14</th>\n",
       "      <td>'phone'</td>\n",
       "      <td>16</td>\n",
       "    </tr>\n",
       "    <tr>\n",
       "      <th>15</th>\n",
       "      <td>'sent_id'</td>\n",
       "      <td>6</td>\n",
       "    </tr>\n",
       "  </tbody>\n",
       "</table>\n",
       "</div>"
      ],
      "text/plain": [
       "                       index  count\n",
       "0                    'phone'   1345\n",
       "1                    'email'   1345\n",
       "2                  'reviews'   1309\n",
       "3            'government_id'   1196\n",
       "4                    'jumio'   1115\n",
       "5    'offline_government_id'    469\n",
       "6               'work_email'    279\n",
       "7                 'facebook'    270\n",
       "8                   'selfie'    252\n",
       "9          'identity_manual'    227\n",
       "10          'manual_offline'     70\n",
       "11                  'google'     34\n",
       "12                     'kba'     27\n",
       "13           'manual_online'     16\n",
       "14                   'phone'     16\n",
       "15                 'sent_id'      6"
      ]
     },
     "execution_count": 7,
     "metadata": {},
     "output_type": "execute_result"
    }
   ],
   "source": [
    "#метод expload для раскрытия списков из столбца \"host_verifications\" и считаем количество каждого из значений\n",
    "\n",
    "hosts_by_verification_type = df_3.explode('host_verifications') \\\n",
    "                                .host_verifications \\\n",
    "                                .value_counts() \\\n",
    "                                .to_frame(name='count') \\\n",
    "                                .reset_index()\n",
    "hosts_by_verification_type"
   ]
  },
  {
   "cell_type": "markdown",
   "metadata": {},
   "source": [
    " # Построить хитмэп количества \"впечатлений\" по району и типу впечатлений."
   ]
  },
  {
   "cell_type": "code",
   "execution_count": 8,
   "metadata": {},
   "outputs": [
    {
     "data": {
      "text/html": [
       "<div>\n",
       "<style scoped>\n",
       "    .dataframe tbody tr th:only-of-type {\n",
       "        vertical-align: middle;\n",
       "    }\n",
       "\n",
       "    .dataframe tbody tr th {\n",
       "        vertical-align: top;\n",
       "    }\n",
       "\n",
       "    .dataframe thead th {\n",
       "        text-align: right;\n",
       "    }\n",
       "</style>\n",
       "<table border=\"1\" class=\"dataframe\">\n",
       "  <thead>\n",
       "    <tr style=\"text-align: right;\">\n",
       "      <th></th>\n",
       "      <th>neighbourhood_cleansed</th>\n",
       "      <th>experiences_offered</th>\n",
       "      <th>experiences_count</th>\n",
       "    </tr>\n",
       "  </thead>\n",
       "  <tbody>\n",
       "    <tr>\n",
       "      <th>0</th>\n",
       "      <td>Westminster</td>\n",
       "      <td>none</td>\n",
       "      <td>9599</td>\n",
       "    </tr>\n",
       "    <tr>\n",
       "      <th>1</th>\n",
       "      <td>Tower Hamlets</td>\n",
       "      <td>none</td>\n",
       "      <td>7973</td>\n",
       "    </tr>\n",
       "    <tr>\n",
       "      <th>2</th>\n",
       "      <td>Camden</td>\n",
       "      <td>none</td>\n",
       "      <td>6004</td>\n",
       "    </tr>\n",
       "    <tr>\n",
       "      <th>3</th>\n",
       "      <td>Hackney</td>\n",
       "      <td>none</td>\n",
       "      <td>5987</td>\n",
       "    </tr>\n",
       "    <tr>\n",
       "      <th>4</th>\n",
       "      <td>Kensington and Chelsea</td>\n",
       "      <td>none</td>\n",
       "      <td>5879</td>\n",
       "    </tr>\n",
       "  </tbody>\n",
       "</table>\n",
       "</div>"
      ],
      "text/plain": [
       "   neighbourhood_cleansed experiences_offered  experiences_count\n",
       "0             Westminster                none               9599\n",
       "1           Tower Hamlets                none               7973\n",
       "2                  Camden                none               6004\n",
       "3                 Hackney                none               5987\n",
       "4  Kensington and Chelsea                none               5879"
      ]
     },
     "execution_count": 8,
     "metadata": {},
     "output_type": "execute_result"
    }
   ],
   "source": [
    "#запрос на кол-во впечатлений в группировке по району и типу впечатления\n",
    "\n",
    "q_4 = '''\n",
    "SELECT neighbourhood_cleansed,\n",
    "        experiences_offered ,\n",
    "        count(id) as experiences_count\n",
    "        \n",
    "FROM ldn_listings\n",
    "GROUP BY neighbourhood_cleansed, \n",
    "        experiences_offered\n",
    "ORDER BY experiences_count desc\n",
    "LIMIT 100\n",
    "\n",
    "'''\n",
    "df_4 = ph.read_clickhouse(query=q_4, connection=connection_default)\n",
    "df_4.head()"
   ]
  },
  {
   "cell_type": "code",
   "execution_count": 9,
   "metadata": {},
   "outputs": [
    {
     "data": {
      "text/html": [
       "<div>\n",
       "<style scoped>\n",
       "    .dataframe tbody tr th:only-of-type {\n",
       "        vertical-align: middle;\n",
       "    }\n",
       "\n",
       "    .dataframe tbody tr th {\n",
       "        vertical-align: top;\n",
       "    }\n",
       "\n",
       "    .dataframe thead th {\n",
       "        text-align: right;\n",
       "    }\n",
       "</style>\n",
       "<table border=\"1\" class=\"dataframe\">\n",
       "  <thead>\n",
       "    <tr style=\"text-align: right;\">\n",
       "      <th>experiences_offered</th>\n",
       "      <th>business</th>\n",
       "      <th>family</th>\n",
       "      <th>romantic</th>\n",
       "      <th>social</th>\n",
       "    </tr>\n",
       "    <tr>\n",
       "      <th>neighbourhood_cleansed</th>\n",
       "      <th></th>\n",
       "      <th></th>\n",
       "      <th></th>\n",
       "      <th></th>\n",
       "    </tr>\n",
       "  </thead>\n",
       "  <tbody>\n",
       "    <tr>\n",
       "      <th>Barking and Dagenham</th>\n",
       "      <td>NaN</td>\n",
       "      <td>NaN</td>\n",
       "      <td>NaN</td>\n",
       "      <td>NaN</td>\n",
       "    </tr>\n",
       "    <tr>\n",
       "      <th>Barnet</th>\n",
       "      <td>7.0</td>\n",
       "      <td>7.0</td>\n",
       "      <td>NaN</td>\n",
       "      <td>5.0</td>\n",
       "    </tr>\n",
       "    <tr>\n",
       "      <th>Bexley</th>\n",
       "      <td>NaN</td>\n",
       "      <td>NaN</td>\n",
       "      <td>NaN</td>\n",
       "      <td>NaN</td>\n",
       "    </tr>\n",
       "    <tr>\n",
       "      <th>Brent</th>\n",
       "      <td>9.0</td>\n",
       "      <td>21.0</td>\n",
       "      <td>NaN</td>\n",
       "      <td>6.0</td>\n",
       "    </tr>\n",
       "    <tr>\n",
       "      <th>Bromley</th>\n",
       "      <td>NaN</td>\n",
       "      <td>NaN</td>\n",
       "      <td>NaN</td>\n",
       "      <td>NaN</td>\n",
       "    </tr>\n",
       "  </tbody>\n",
       "</table>\n",
       "</div>"
      ],
      "text/plain": [
       "experiences_offered     business  family  romantic  social\n",
       "neighbourhood_cleansed                                    \n",
       "Barking and Dagenham         NaN     NaN       NaN     NaN\n",
       "Barnet                       7.0     7.0       NaN     5.0\n",
       "Bexley                       NaN     NaN       NaN     NaN\n",
       "Brent                        9.0    21.0       NaN     6.0\n",
       "Bromley                      NaN     NaN       NaN     NaN"
      ]
     },
     "execution_count": 9,
     "metadata": {},
     "output_type": "execute_result"
    }
   ],
   "source": [
    "#сводная таблица\n",
    "\n",
    "df_4_pivot = df_4.pivot(index='neighbourhood_cleansed', columns='experiences_offered', values='experiences_count')\n",
    "df_4_pivot = df_4_pivot.drop(columns='none')\n",
    "df_4_pivot.head()"
   ]
  },
  {
   "cell_type": "code",
   "execution_count": 10,
   "metadata": {
    "scrolled": false
   },
   "outputs": [
    {
     "data": {
      "text/plain": [
       "<matplotlib.axes._subplots.AxesSubplot at 0x7f04f3e8d7f0>"
      ]
     },
     "execution_count": 10,
     "metadata": {},
     "output_type": "execute_result"
    },
    {
     "data": {
      "image/png": "[encoded data removed]",
      "text/plain": [
       "<Figure size 720x720 with 2 Axes>"
      ]
     },
     "metadata": {
      "needs_background": "light"
     },
     "output_type": "display_data"
    }
   ],
   "source": [
    "#построить хитмэп с палитрой\n",
    "\n",
    "fig, ax = plt.subplots(figsize=(10,10)) \n",
    "cmap=sns.cubehelix_palette(as_cmap=True) #настройка палитры\n",
    "sns.heatmap(df_4_pivot, cmap=cmap)"
   ]
  },
  {
   "cell_type": "markdown",
   "metadata": {},
   "source": [
    "# Построить распределения цены (+log цены) по типу жилья"
   ]
  },
  {
   "cell_type": "code",
   "execution_count": 11,
   "metadata": {},
   "outputs": [
    {
     "data": {
      "text/html": [
       "<div>\n",
       "<style scoped>\n",
       "    .dataframe tbody tr th:only-of-type {\n",
       "        vertical-align: middle;\n",
       "    }\n",
       "\n",
       "    .dataframe tbody tr th {\n",
       "        vertical-align: top;\n",
       "    }\n",
       "\n",
       "    .dataframe thead th {\n",
       "        text-align: right;\n",
       "    }\n",
       "</style>\n",
       "<table border=\"1\" class=\"dataframe\">\n",
       "  <thead>\n",
       "    <tr style=\"text-align: right;\">\n",
       "      <th></th>\n",
       "      <th>room_type</th>\n",
       "      <th>price</th>\n",
       "    </tr>\n",
       "  </thead>\n",
       "  <tbody>\n",
       "    <tr>\n",
       "      <th>0</th>\n",
       "      <td>Private room</td>\n",
       "      <td>65.0</td>\n",
       "    </tr>\n",
       "    <tr>\n",
       "      <th>1</th>\n",
       "      <td>Entire home/apt</td>\n",
       "      <td>100.0</td>\n",
       "    </tr>\n",
       "    <tr>\n",
       "      <th>2</th>\n",
       "      <td>Private room</td>\n",
       "      <td>150.0</td>\n",
       "    </tr>\n",
       "    <tr>\n",
       "      <th>3</th>\n",
       "      <td>Private room</td>\n",
       "      <td>45.0</td>\n",
       "    </tr>\n",
       "    <tr>\n",
       "      <th>4</th>\n",
       "      <td>Private room</td>\n",
       "      <td>25.0</td>\n",
       "    </tr>\n",
       "  </tbody>\n",
       "</table>\n",
       "</div>"
      ],
      "text/plain": [
       "         room_type  price\n",
       "0     Private room   65.0\n",
       "1  Entire home/apt  100.0\n",
       "2     Private room  150.0\n",
       "3     Private room   45.0\n",
       "4     Private room   25.0"
      ]
     },
     "execution_count": 11,
     "metadata": {},
     "output_type": "execute_result"
    }
   ],
   "source": [
    "q_5 = '''\n",
    "SELECT room_type,\n",
    "    toFloat64OrNull(replaceRegexpAll(price, '[$,]', '')) as price\n",
    "    \n",
    "FROM ldn_listings\n",
    "where experiences_offered  != 'none'\n",
    "\n",
    "'''\n",
    "df_5 = ph.read_clickhouse(query=q_5, connection=connection_default)\n",
    "df_5.head()"
   ]
  },
  {
   "cell_type": "code",
   "execution_count": 12,
   "metadata": {},
   "outputs": [
    {
     "data": {
      "text/plain": [
       "<matplotlib.axes._subplots.AxesSubplot at 0x7f04f436a470>"
      ]
     },
     "execution_count": 12,
     "metadata": {},
     "output_type": "execute_result"
    },
    {
     "data": {
      "image/png": "[encoded data removed]",
      "text/plain": [
       "<Figure size 1440x432 with 1 Axes>"
      ]
     },
     "metadata": {
      "needs_background": "light"
     },
     "output_type": "display_data"
    }
   ],
   "source": [
    "fig, ax = plt.subplots(figsize=(20, 6))\n",
    "sns.histplot(data = df_5, x='price', hue='room_type')"
   ]
  },
  {
   "cell_type": "code",
   "execution_count": 13,
   "metadata": {},
   "outputs": [
    {
     "data": {
      "text/html": [
       "<div>\n",
       "<style scoped>\n",
       "    .dataframe tbody tr th:only-of-type {\n",
       "        vertical-align: middle;\n",
       "    }\n",
       "\n",
       "    .dataframe tbody tr th {\n",
       "        vertical-align: top;\n",
       "    }\n",
       "\n",
       "    .dataframe thead th {\n",
       "        text-align: right;\n",
       "    }\n",
       "</style>\n",
       "<table border=\"1\" class=\"dataframe\">\n",
       "  <thead>\n",
       "    <tr style=\"text-align: right;\">\n",
       "      <th></th>\n",
       "      <th>room_type</th>\n",
       "      <th>price</th>\n",
       "    </tr>\n",
       "  </thead>\n",
       "  <tbody>\n",
       "    <tr>\n",
       "      <th>0</th>\n",
       "      <td>Private room</td>\n",
       "      <td>4.174387</td>\n",
       "    </tr>\n",
       "    <tr>\n",
       "      <th>1</th>\n",
       "      <td>Entire home/apt</td>\n",
       "      <td>4.605170</td>\n",
       "    </tr>\n",
       "    <tr>\n",
       "      <th>2</th>\n",
       "      <td>Private room</td>\n",
       "      <td>5.010635</td>\n",
       "    </tr>\n",
       "    <tr>\n",
       "      <th>3</th>\n",
       "      <td>Private room</td>\n",
       "      <td>3.806662</td>\n",
       "    </tr>\n",
       "    <tr>\n",
       "      <th>4</th>\n",
       "      <td>Private room</td>\n",
       "      <td>3.218876</td>\n",
       "    </tr>\n",
       "  </tbody>\n",
       "</table>\n",
       "</div>"
      ],
      "text/plain": [
       "         room_type     price\n",
       "0     Private room  4.174387\n",
       "1  Entire home/apt  4.605170\n",
       "2     Private room  5.010635\n",
       "3     Private room  3.806662\n",
       "4     Private room  3.218876"
      ]
     },
     "execution_count": 13,
     "metadata": {},
     "output_type": "execute_result"
    }
   ],
   "source": [
    "#логарифмированная цена\n",
    "df_5_log = df_5\n",
    "df_5_log['price'] = np.log(df_5_log['price'])\n",
    "df_5_log.head()"
   ]
  },
  {
   "cell_type": "code",
   "execution_count": 14,
   "metadata": {},
   "outputs": [
    {
     "data": {
      "text/plain": [
       "<matplotlib.axes._subplots.AxesSubplot at 0x7f04f3cab8d0>"
      ]
     },
     "execution_count": 14,
     "metadata": {},
     "output_type": "execute_result"
    },
    {
     "data": {
      "image/png": "[encoded data removed]",
      "text/plain": [
       "<Figure size 1440x432 with 1 Axes>"
      ]
     },
     "metadata": {
      "needs_background": "light"
     },
     "output_type": "display_data"
    }
   ],
   "source": [
    "fig, ax = plt.subplots(figsize=(20, 6))\n",
    "sns.histplot(data = df_5_log, x='price', hue='room_type')"
   ]
  },
  {
   "cell_type": "markdown",
   "metadata": {},
   "source": [
    "# Построить график динамики средних цен в зависимости от типа комнаты по годам"
   ]
  },
  {
   "cell_type": "code",
   "execution_count": 15,
   "metadata": {},
   "outputs": [
    {
     "data": {
      "text/html": [
       "<div>\n",
       "<style scoped>\n",
       "    .dataframe tbody tr th:only-of-type {\n",
       "        vertical-align: middle;\n",
       "    }\n",
       "\n",
       "    .dataframe tbody tr th {\n",
       "        vertical-align: top;\n",
       "    }\n",
       "\n",
       "    .dataframe thead th {\n",
       "        text-align: right;\n",
       "    }\n",
       "</style>\n",
       "<table border=\"1\" class=\"dataframe\">\n",
       "  <thead>\n",
       "    <tr style=\"text-align: right;\">\n",
       "      <th></th>\n",
       "      <th>room_type</th>\n",
       "      <th>price</th>\n",
       "      <th>first_review</th>\n",
       "    </tr>\n",
       "  </thead>\n",
       "  <tbody>\n",
       "    <tr>\n",
       "      <th>0</th>\n",
       "      <td>Private room</td>\n",
       "      <td>65.0</td>\n",
       "      <td>2010-08-18</td>\n",
       "    </tr>\n",
       "    <tr>\n",
       "      <th>1</th>\n",
       "      <td>Entire home/apt</td>\n",
       "      <td>300.0</td>\n",
       "      <td>2011-03-21</td>\n",
       "    </tr>\n",
       "    <tr>\n",
       "      <th>2</th>\n",
       "      <td>Entire home/apt</td>\n",
       "      <td>65.0</td>\n",
       "      <td>2016-03-05</td>\n",
       "    </tr>\n",
       "    <tr>\n",
       "      <th>3</th>\n",
       "      <td>Private room</td>\n",
       "      <td>29.0</td>\n",
       "      <td>2010-04-14</td>\n",
       "    </tr>\n",
       "    <tr>\n",
       "      <th>4</th>\n",
       "      <td>Private room</td>\n",
       "      <td>100.0</td>\n",
       "      <td>2010-10-16</td>\n",
       "    </tr>\n",
       "  </tbody>\n",
       "</table>\n",
       "</div>"
      ],
      "text/plain": [
       "         room_type  price first_review\n",
       "0     Private room   65.0   2010-08-18\n",
       "1  Entire home/apt  300.0   2011-03-21\n",
       "2  Entire home/apt   65.0   2016-03-05\n",
       "3     Private room   29.0   2010-04-14\n",
       "4     Private room  100.0   2010-10-16"
      ]
     },
     "execution_count": 15,
     "metadata": {},
     "output_type": "execute_result"
    }
   ],
   "source": [
    "#запрос с фильтром на первый отзыв со 2го января 2010г.\n",
    "q_6 = '''\n",
    "SELECT room_type,\n",
    "        toFloat64OrNull(replaceRegexpAll(price, '[$,]', '')) as price,\n",
    "        first_review\n",
    "    \n",
    "FROM ldn_listings\n",
    "where toDateOrNull(first_review) > '2010-01-01'\n",
    "limit 1000\n",
    "\n",
    "'''\n",
    "df_6 = ph.read_clickhouse(query=q_6, connection=connection_default)\n",
    "df_6.head()"
   ]
  },
  {
   "cell_type": "code",
   "execution_count": 25,
   "metadata": {},
   "outputs": [
    {
     "data": {
      "text/html": [
       "<div>\n",
       "<style scoped>\n",
       "    .dataframe tbody tr th:only-of-type {\n",
       "        vertical-align: middle;\n",
       "    }\n",
       "\n",
       "    .dataframe tbody tr th {\n",
       "        vertical-align: top;\n",
       "    }\n",
       "\n",
       "    .dataframe thead th {\n",
       "        text-align: right;\n",
       "    }\n",
       "</style>\n",
       "<table border=\"1\" class=\"dataframe\">\n",
       "  <thead>\n",
       "    <tr style=\"text-align: right;\">\n",
       "      <th></th>\n",
       "      <th>room_type</th>\n",
       "      <th>first_review</th>\n",
       "      <th>price</th>\n",
       "    </tr>\n",
       "  </thead>\n",
       "  <tbody>\n",
       "    <tr>\n",
       "      <th>0</th>\n",
       "      <td>Entire home/apt</td>\n",
       "      <td>2010</td>\n",
       "      <td>103.500000</td>\n",
       "    </tr>\n",
       "    <tr>\n",
       "      <th>1</th>\n",
       "      <td>Entire home/apt</td>\n",
       "      <td>2011</td>\n",
       "      <td>128.792453</td>\n",
       "    </tr>\n",
       "    <tr>\n",
       "      <th>2</th>\n",
       "      <td>Entire home/apt</td>\n",
       "      <td>2012</td>\n",
       "      <td>135.467249</td>\n",
       "    </tr>\n",
       "    <tr>\n",
       "      <th>3</th>\n",
       "      <td>Entire home/apt</td>\n",
       "      <td>2013</td>\n",
       "      <td>137.887640</td>\n",
       "    </tr>\n",
       "    <tr>\n",
       "      <th>4</th>\n",
       "      <td>Entire home/apt</td>\n",
       "      <td>2014</td>\n",
       "      <td>154.583333</td>\n",
       "    </tr>\n",
       "  </tbody>\n",
       "</table>\n",
       "</div>"
      ],
      "text/plain": [
       "         room_type first_review       price\n",
       "0  Entire home/apt         2010  103.500000\n",
       "1  Entire home/apt         2011  128.792453\n",
       "2  Entire home/apt         2012  135.467249\n",
       "3  Entire home/apt         2013  137.887640\n",
       "4  Entire home/apt         2014  154.583333"
      ]
     },
     "execution_count": 25,
     "metadata": {},
     "output_type": "execute_result"
    }
   ],
   "source": [
    "\n",
    "df_6['first_review'] = df_6.first_review.apply(lambda x: x[:4]) #оставил год из даты\n",
    "df_6 = df_6.groupby(['room_type', 'first_review'], as_index=False).agg({'price': 'mean'})\n",
    "df_6.head()"
   ]
  },
  {
   "cell_type": "code",
   "execution_count": 28,
   "metadata": {},
   "outputs": [
    {
     "data": {
      "text/plain": [
       "<matplotlib.axes._subplots.AxesSubplot at 0x7f04f389a8d0>"
      ]
     },
     "execution_count": 28,
     "metadata": {},
     "output_type": "execute_result"
    },
    {
     "data": {
      "image/png": "[encoded data removed]",
      "text/plain": [
       "<Figure size 432x288 with 1 Axes>"
      ]
     },
     "metadata": {
      "needs_background": "light"
     },
     "output_type": "display_data"
    }
   ],
   "source": [
    "sns.lineplot(data=df_6, x='first_review', y='price', hue='room_type')"
   ]
  },
  {
   "cell_type": "code",
   "execution_count": null,
   "metadata": {},
   "outputs": [],
   "source": []
  }
 ],
 "metadata": {
  "kernelspec": {
   "display_name": "Python 3",
   "language": "python",
   "name": "python3"
  },
  "language_info": {
   "codemirror_mode": {
    "name": "ipython",
    "version": 3
   },
   "file_extension": ".py",
   "mimetype": "text/x-python",
   "name": "python",
   "nbconvert_exporter": "python",
   "pygments_lexer": "ipython3",
   "version": "3.7.3"
  }
 },
 "nbformat": 4,
 "nbformat_minor": 4
}
