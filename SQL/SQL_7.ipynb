{
 "cells": [
  {
   "cell_type": "code",
   "execution_count": null,
   "metadata": {},
   "outputs": [],
   "source": [
    "#создать таблицу если она еще не существует\n",
    "\n",
    "CREATE TABLE IF NOT EXISTS test.retail \n",
    "(InvoiceNo String,\n",
    "StockCode String, \n",
    "Description String,\n",
    "Quantity Int32,\n",
    "InvoiceDate DateTime('Europe/London'),\n",
    "UnitPrice Decimal64(3),\n",
    "CustomerID UInt32,\n",
    "Country String\n",
    ")\n",
    "ENGINE = MergeTree\n",
    "ORDER BY (InvoiceDate, CustomerID)\n"
   ]
  },
  {
   "cell_type": "code",
   "execution_count": null,
   "metadata": {},
   "outputs": [],
   "source": [
    "#уникальные пользователи по странам\n",
    "\n",
    "select Country,\n",
    "    uniqExact(CustomerID) as users_unique\n",
    "from retail\n",
    "group by Country\n",
    "Order by users_unique desc"
   ]
  },
  {
   "cell_type": "code",
   "execution_count": null,
   "metadata": {},
   "outputs": [],
   "source": [
    "#кол-во уникальных пользователей по странам (кроме UK)\n",
    "select Country,\n",
    "    toStartOfMonth(InvoiceDate) as month,\n",
    "    uniqExact(CustomerID) as users_unique\n",
    "from retail\n",
    "where Country != 'United Kingdom'\n",
    "group by Country, month\n",
    "Order by month"
   ]
  },
  {
   "cell_type": "code",
   "execution_count": null,
   "metadata": {},
   "outputs": [],
   "source": [
    "#средняя сумма заказа по странам\n",
    "select Country,\n",
    "    avg(total_price) as total_price_avg\n",
    "\n",
    "from (\n",
    "    select InvoiceNo,\n",
    "        Country,\n",
    "        sum(Quantity * UnitPrice) as total_price\n",
    "    from retail\n",
    "    where Quantity > 0\n",
    "    group by InvoiceNo,Country )\n",
    "group by Country\n",
    "order by total_price_avg desc"
   ]
  },
  {
   "cell_type": "code",
   "execution_count": null,
   "metadata": {},
   "outputs": [],
   "source": [
    "#средняя сумма заказа по месяцам и странам из списка\n",
    "select Country,\n",
    "    month,\n",
    "    avg(total_price) as total_price_avg\n",
    "\n",
    "from (\n",
    "    select InvoiceNo,\n",
    "        toStartOfMonth(InvoiceDate) as month,\n",
    "        Country,\n",
    "        sum(Quantity * UnitPrice) as total_price\n",
    "    from retail\n",
    "    where Quantity > 0 and\n",
    "        Country in ['United Kingdom', 'Germany', 'France', 'Spain', 'Netherlands', 'Belgium', 'Switzerland', 'Portugal', 'Australia', 'USA']\n",
    "    group by InvoiceNo,Country, month )\n",
    "group by Country, month\n",
    "order by total_price_avg desc"
   ]
  },
  {
   "cell_type": "code",
   "execution_count": null,
   "metadata": {},
   "outputs": [],
   "source": [
    "#Среднее кол-во товаров в корзине по Канаде\n",
    "\n",
    "select Country,\n",
    "    avg(total_quant) as total_price_avg\n",
    "\n",
    "from (\n",
    "    select InvoiceNo,\n",
    "        Country,\n",
    "        sum(Quantity) as total_quant\n",
    "    from retail\n",
    "    where Quantity > 0\n",
    "    group by InvoiceNo,Country )\n",
    "where Country = 'Canada'\n",
    "group by Country\n"
   ]
  },
  {
   "cell_type": "code",
   "execution_count": null,
   "metadata": {},
   "outputs": [],
   "source": [
    "#кол-во купленных товаров по пользователям в Нидерландах\n",
    "select CustomerID,\n",
    "        sum(Quantity) as total_quant\n",
    "    from retail\n",
    "    where Quantity > 0 and\n",
    "        Country = 'Netherlands'\n",
    "    group by CustomerID\n",
    "    order by total_quant desc"
   ]
  }
 ],
 "metadata": {
  "kernelspec": {
   "display_name": "Python 3",
   "language": "python",
   "name": "python3"
  },
  "language_info": {
   "codemirror_mode": {
    "name": "ipython",
    "version": 3
   },
   "file_extension": ".py",
   "mimetype": "text/x-python",
   "name": "python",
   "nbconvert_exporter": "python",
   "pygments_lexer": "ipython3",
   "version": "3.7.3"
  }
 },
 "nbformat": 4,
 "nbformat_minor": 4
}
