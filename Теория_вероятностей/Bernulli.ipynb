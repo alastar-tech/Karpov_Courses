{
 "cells": [
  {
   "cell_type": "code",
   "execution_count": 5,
   "metadata": {},
   "outputs": [],
   "source": [
    "from scipy import special #модуль питона, предназначенный для научных и инженерных расчетов\n",
    "from math import factorial\n",
    "\n",
    "#special.comb(n, k) #биномиальный коэффициент\n",
    "\n",
    "\n",
    "def num_of_successes(n, k):\n",
    "    return factorial(n)/(factorial(k) * factorial(n - k))"
   ]
  },
  {
   "cell_type": "code",
   "execution_count": 6,
   "metadata": {},
   "outputs": [
    {
     "data": {
      "text/plain": [
       "10.0"
      ]
     },
     "execution_count": 6,
     "metadata": {},
     "output_type": "execute_result"
    }
   ],
   "source": [
    "special.comb(5, 3)"
   ]
  },
  {
   "cell_type": "code",
   "execution_count": 7,
   "metadata": {},
   "outputs": [
    {
     "data": {
      "text/plain": [
       "10.0"
      ]
     },
     "execution_count": 7,
     "metadata": {},
     "output_type": "execute_result"
    }
   ],
   "source": [
    "num_of_successes(5,3)"
   ]
  },
  {
   "cell_type": "code",
   "execution_count": 33,
   "metadata": {},
   "outputs": [],
   "source": [
    "def probability_berbulli(p, n, k):\n",
    "    return special.comb(n, k) * p**k * (1-p)**(n-k)\n"
   ]
  },
  {
   "cell_type": "code",
   "execution_count": 35,
   "metadata": {},
   "outputs": [
    {
     "data": {
      "text/plain": [
       "0.9222400000000001"
      ]
     },
     "execution_count": 35,
     "metadata": {},
     "output_type": "execute_result"
    }
   ],
   "source": [
    "#Устройство, состоящее из пяти независимо работающих элементов, включается за время Т. \n",
    "#Вероятность отказа каждого из них за это время равна 0,4. \n",
    "#Найдите вероятность того, что хотя бы один элемент откажет.\n",
    "\n",
    "probability_berbulli(0.4, 5, 1)+\\\n",
    "probability_berbulli(0.4, 5, 2) +\\\n",
    "probability_berbulli(0.4, 5, 3)+\\\n",
    "probability_berbulli(0.4, 5, 4)+\\\n",
    "probability_berbulli(0.4, 5, 5)"
   ]
  },
  {
   "cell_type": "code",
   "execution_count": 50,
   "metadata": {},
   "outputs": [
    {
     "data": {
      "text/plain": [
       "0.7447016700000001"
      ]
     },
     "execution_count": 50,
     "metadata": {},
     "output_type": "execute_result"
    }
   ],
   "source": [
    "#Производится 8 выстрелов по цели, в каждом из которых вероятность попадания равна 0,3. \n",
    "#Найти вероятность того, что цель будет поражена хотя бы два раза. \n",
    "\n",
    "probability_berbulli(0.3, 8, 2)+\\\n",
    "probability_berbulli(0.3, 8, 3) +\\\n",
    "probability_berbulli(0.3, 8, 4)+\\\n",
    "probability_berbulli(0.3, 8, 5)+\\\n",
    "probability_berbulli(0.3, 8, 6)+\\\n",
    "probability_berbulli(0.3, 8, 7)+\\\n",
    "probability_berbulli(0.3, 8, 8)\n",
    "\n",
    "#или\n",
    "1 - probability_berbulli(0.3, 8, 1)-\\\n",
    "probability_berbulli(0.3, 8, 0) "
   ]
  },
  {
   "cell_type": "code",
   "execution_count": 51,
   "metadata": {},
   "outputs": [
    {
     "data": {
      "text/plain": [
       "0.419904"
      ]
     },
     "execution_count": 51,
     "metadata": {},
     "output_type": "execute_result"
    }
   ],
   "source": [
    "#В магазине 7 покупателей. Каждый может совершить покупку с вероятностью 0,4. \n",
    "#Найти вероятность того, что не более двух человек совершат покупку. \n",
    "probability_berbulli(0.4, 7, 1)+\\\n",
    "probability_berbulli(0.4, 7, 2)+\\\n",
    "probability_berbulli(0.4, 7, 0)"
   ]
  },
  {
   "cell_type": "code",
   "execution_count": 56,
   "metadata": {},
   "outputs": [
    {
     "data": {
      "text/plain": [
       "0.7734375"
      ]
     },
     "execution_count": 56,
     "metadata": {},
     "output_type": "execute_result"
    }
   ],
   "source": [
    "#В телеателье имеется 7 телевизоров. \n",
    "#Для каждого телевизора вероятность того, что в данный момент он включен, равна 0,5. \n",
    "#Найти вероятность того, что в данный момент включены не менее трех телевизоров. \n",
    "\n",
    "1 - (probability_berbulli(0.5, 7, 0)+\\\n",
    "probability_berbulli(0.5, 7, 1)+\\\n",
    "probability_berbulli(0.5, 7, 2))"
   ]
  },
  {
   "cell_type": "code",
   "execution_count": 58,
   "metadata": {},
   "outputs": [
    {
     "data": {
      "text/plain": [
       "0.466064453125"
      ]
     },
     "execution_count": 58,
     "metadata": {},
     "output_type": "execute_result"
    }
   ],
   "source": [
    "#Пусть вероятность того, что покупателю необходим компьютер с операционной системой Linux, равна 0.25. \n",
    "#Найдите вероятность того, что из шести покупателей по крайней мере двум необходим компьютер с операционной системой Linux.\n",
    "1 - (probability_berbulli(0.25, 6, 0)+\\\n",
    "probability_berbulli(0.25, 6, 1))"
   ]
  },
  {
   "cell_type": "code",
   "execution_count": 65,
   "metadata": {},
   "outputs": [
    {
     "data": {
      "text/plain": [
       "0.9298091736000001"
      ]
     },
     "execution_count": 65,
     "metadata": {},
     "output_type": "execute_result"
    }
   ],
   "source": [
    "#Для нормальной работы отдела по дата-аналитике необходимо, \n",
    "#чтобы в офисе было не менее восьми программистов, а всего в штате 10 программистов. \n",
    "#Вероятность того, что программист заболеет, равна 0.1. \n",
    "#Найдите вероятность нормальной работы отдела по дата-аналитике.\n",
    "\n",
    "#по кол-ву заболевших\n",
    "(probability_berbulli(0.1, 10, 0)+\\\n",
    "probability_berbulli(0.1, 10, 1)+\\\n",
    "probability_berbulli(0.1, 10, 2))\n",
    "\n",
    "#или - кол-во сотрудников в офисе\n",
    "(probability_berbulli(0.9, 10, 10)+\\\n",
    "probability_berbulli(0.9, 10, 9)+\\\n",
    "probability_berbulli(0.9, 10, 8))"
   ]
  },
  {
   "cell_type": "code",
   "execution_count": 66,
   "metadata": {},
   "outputs": [
    {
     "data": {
      "text/plain": [
       "0.22765622036690203"
      ]
     },
     "execution_count": 66,
     "metadata": {},
     "output_type": "execute_result"
    }
   ],
   "source": [
    "#Среди всех скриптов, которые пишет программист, с 10%-ой вероятностью скрипт будет с ошибкой. \n",
    "#Найдем вероятность того, что среди 30 скриптов два не будут работать.\n",
    "\n",
    "probability_berbulli(0.1, 30, 2)"
   ]
  },
  {
   "cell_type": "code",
   "execution_count": 68,
   "metadata": {},
   "outputs": [
    {
     "data": {
      "text/plain": [
       "0.087890625"
      ]
     },
     "execution_count": 68,
     "metadata": {},
     "output_type": "execute_result"
    }
   ],
   "source": [
    "#В урне 20 шаров: 15 белых и 5 чёрных. \n",
    "#Вынули подряд 5 шаров, причём каждый вынутый шар возвращается в урну и \n",
    "#перед извлечением следующего шары в урне тщательно перемешиваются. \n",
    "#Найдите вероятность того, что из пяти вынутых шаров будет 2 белых.\n",
    "probability_berbulli(0.75, 5, 2)"
   ]
  },
  {
   "cell_type": "code",
   "execution_count": null,
   "metadata": {},
   "outputs": [],
   "source": []
  }
 ],
 "metadata": {
  "kernelspec": {
   "display_name": "Python 3",
   "language": "python",
   "name": "python3"
  },
  "language_info": {
   "codemirror_mode": {
    "name": "ipython",
    "version": 3
   },
   "file_extension": ".py",
   "mimetype": "text/x-python",
   "name": "python",
   "nbconvert_exporter": "python",
   "pygments_lexer": "ipython3",
   "version": "3.7.3"
  }
 },
 "nbformat": 4,
 "nbformat_minor": 4
}
